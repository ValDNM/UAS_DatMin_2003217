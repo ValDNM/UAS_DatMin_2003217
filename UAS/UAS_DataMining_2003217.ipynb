{
 "cells": [
  {
   "cell_type": "markdown",
   "id": "c15b883a",
   "metadata": {},
   "source": [
    "# UAS DATA MINING\n",
    "Nama: Muhamad Naufal Daffa (2003217)"
   ]
  },
  {
   "cell_type": "code",
   "execution_count": 1,
   "id": "62a363da",
   "metadata": {},
   "outputs": [],
   "source": [
    "%matplotlib inline\n",
    "import numpy as np\n",
    "import pandas as pd\n",
    "import matplotlib.pyplot as plt\n",
    "import seaborn as sns"
   ]
  },
  {
   "cell_type": "markdown",
   "id": "9adb929b",
   "metadata": {},
   "source": [
    "#### IPM (Indeks Pembangunan Manusia) adalah ukuran kualitas sumber daya manusia.\n",
    "PMI memiliki tiga dimensi: \n",
    "(1) umur panjang dan hidup sehat, \n",
    "(2) pengetahuan, dan \n",
    "(3) standar hidup layak\n",
    "\n",
    "Untuk dimensi pertama, berlaku dataset persen_unmet_need_pelayanan_kesehatan.\n",
    "\n",
    "Untuk dimensi kedua, berlaku dataset melek_huruf_diatas15 dan persen_penduduk_trampil_tik.\n",
    "\n",
    "Untuk dimensi ketiga, berlaku dataset proporsi_hidup_dibawah_50_persen_median, ketidak_cukupan_pangan_prov.\n"
   ]
  },
  {
   "cell_type": "code",
   "execution_count": 2,
   "id": "c45467a8",
   "metadata": {},
   "outputs": [],
   "source": [
    "df_needPelayananKes = pd.read_csv(\"..\\\\UAS\\\\data_source\\\\persen_unmet_need_pelayanan_kesehatan.csv\")\n",
    "\n",
    "df_trampilTik = pd.read_csv(\"..\\\\UAS\\\\data_source\\\\persen_penduduk_trampil_tik.csv\")\n",
    "df_melekHuruf15 = pd.read_csv(\"..\\\\UAS\\\\data_source\\\\melek_huruf_diatas15.csv\")\n",
    "\n",
    "df_cukupPanganProv = pd.read_csv(\"..\\\\UAS\\\\data_source\\\\ketidak_cukupan_pangan_prov.csv\")\n",
    "df_hidupDibawah50Median = pd.read_csv(\"..\\\\UAS\\\\data_source\\\\proporsi_hidup_dibawah_50_persen_median_pendapatan.csv\")\n",
    "\n",
    "df_pmi = pd.read_csv(\"..\\\\UAS\\\\data_source\\\\pmi.csv\")"
   ]
  },
  {
   "cell_type": "markdown",
   "id": "9ee1437a",
   "metadata": {},
   "source": [
    "## Eksplorasi Data"
   ]
  },
  {
   "cell_type": "markdown",
   "id": "22713313",
   "metadata": {},
   "source": [
    "### Need Pelayanan Kesehatan"
   ]
  },
  {
   "cell_type": "code",
   "execution_count": 3,
   "id": "a99fd5d7",
   "metadata": {},
   "outputs": [
    {
     "data": {
      "text/html": [
       "<div>\n",
       "<style scoped>\n",
       "    .dataframe tbody tr th:only-of-type {\n",
       "        vertical-align: middle;\n",
       "    }\n",
       "\n",
       "    .dataframe tbody tr th {\n",
       "        vertical-align: top;\n",
       "    }\n",
       "\n",
       "    .dataframe thead th {\n",
       "        text-align: right;\n",
       "    }\n",
       "</style>\n",
       "<table border=\"1\" class=\"dataframe\">\n",
       "  <thead>\n",
       "    <tr style=\"text-align: right;\">\n",
       "      <th></th>\n",
       "      <th>tahun</th>\n",
       "      <th>persen_unmet_need_pelayanan_kesehatan</th>\n",
       "      <th>prov</th>\n",
       "    </tr>\n",
       "  </thead>\n",
       "  <tbody>\n",
       "    <tr>\n",
       "      <th>0</th>\n",
       "      <td>2022</td>\n",
       "      <td>6.83</td>\n",
       "      <td>ACEH</td>\n",
       "    </tr>\n",
       "    <tr>\n",
       "      <th>1</th>\n",
       "      <td>2022</td>\n",
       "      <td>5.96</td>\n",
       "      <td>SUMATERA UTARA</td>\n",
       "    </tr>\n",
       "    <tr>\n",
       "      <th>2</th>\n",
       "      <td>2022</td>\n",
       "      <td>4.31</td>\n",
       "      <td>SUMATERA BARAT</td>\n",
       "    </tr>\n",
       "  </tbody>\n",
       "</table>\n",
       "</div>"
      ],
      "text/plain": [
       "   tahun  persen_unmet_need_pelayanan_kesehatan            prov\n",
       "0   2022                                   6.83            ACEH\n",
       "1   2022                                   5.96  SUMATERA UTARA\n",
       "2   2022                                   4.31  SUMATERA BARAT"
      ]
     },
     "execution_count": 3,
     "metadata": {},
     "output_type": "execute_result"
    }
   ],
   "source": [
    "df_needPelayananKes.head(3)"
   ]
  },
  {
   "cell_type": "markdown",
   "id": "8d8c952d",
   "metadata": {},
   "source": [
    "#### EDA"
   ]
  },
  {
   "cell_type": "markdown",
   "id": "aed212ab",
   "metadata": {},
   "source": [
    "#### Barplot tahun terhadap kebutuhan pelayanan masyarakat yang unmet"
   ]
  },
  {
   "cell_type": "code",
   "execution_count": 4,
   "id": "54405774",
   "metadata": {},
   "outputs": [
    {
     "data": {
      "text/plain": [
       "<AxesSubplot: xlabel='tahun', ylabel='persen_unmet_need_pelayanan_kesehatan'>"
      ]
     },
     "execution_count": 4,
     "metadata": {},
     "output_type": "execute_result"
    },
    {
     "data": {
      "image/png": "[encoded data removed]",
      "text/plain": [
       "<Figure size 640x480 with 1 Axes>"
      ]
     },
     "metadata": {},
     "output_type": "display_data"
    }
   ],
   "source": [
    "sns.barplot(data=df_needPelayananKes,x=\"tahun\", y=\"persen_unmet_need_pelayanan_kesehatan\")"
   ]
  },
  {
   "cell_type": "markdown",
   "id": "ce7b28d7",
   "metadata": {},
   "source": [
    "berdasarkan barplot diatas, terlihat bahwa persen unmet pelayanan kesehatan rata-rata pada tahun 2022 tertinggi, dan ter-rendah merupakan di tahun 2016 dan 2021. Rendahnya di tahun 2021 dapat diakibatkan karena puncaknya pandemi covid-19 dimana banyak layanan kesehatan yang overwhelmed dengan jumlah pasien yang ada."
   ]
  },
  {
   "cell_type": "code",
   "execution_count": 5,
   "id": "a349206f",
   "metadata": {},
   "outputs": [],
   "source": [
    "df_needPelayananKes = df_needPelayananKes.drop(df_needPelayananKes[((df_needPelayananKes[\"tahun\"] < 2018) | (df_needPelayananKes[\"tahun\"] > 2021) | (df_needPelayananKes[\"prov\"] == \"INDONESIA\"))].index)"
   ]
  },
  {
   "cell_type": "markdown",
   "id": "39d5c7e7",
   "metadata": {},
   "source": [
    "### Trampil TIK"
   ]
  },
  {
   "cell_type": "code",
   "execution_count": 6,
   "id": "f04826dc",
   "metadata": {},
   "outputs": [
    {
     "data": {
      "text/html": [
       "<div>\n",
       "<style scoped>\n",
       "    .dataframe tbody tr th:only-of-type {\n",
       "        vertical-align: middle;\n",
       "    }\n",
       "\n",
       "    .dataframe tbody tr th {\n",
       "        vertical-align: top;\n",
       "    }\n",
       "\n",
       "    .dataframe thead th {\n",
       "        text-align: right;\n",
       "    }\n",
       "</style>\n",
       "<table border=\"1\" class=\"dataframe\">\n",
       "  <thead>\n",
       "    <tr style=\"text-align: right;\">\n",
       "      <th></th>\n",
       "      <th>tahun</th>\n",
       "      <th>persen_penduduk_trampil_tik</th>\n",
       "      <th>prov</th>\n",
       "    </tr>\n",
       "  </thead>\n",
       "  <tbody>\n",
       "    <tr>\n",
       "      <th>0</th>\n",
       "      <td>2021</td>\n",
       "      <td>60.21</td>\n",
       "      <td>ACEH</td>\n",
       "    </tr>\n",
       "    <tr>\n",
       "      <th>1</th>\n",
       "      <td>2021</td>\n",
       "      <td>67.41</td>\n",
       "      <td>SUMATERA UTARA</td>\n",
       "    </tr>\n",
       "    <tr>\n",
       "      <th>2</th>\n",
       "      <td>2021</td>\n",
       "      <td>68.00</td>\n",
       "      <td>SUMATERA BARAT</td>\n",
       "    </tr>\n",
       "  </tbody>\n",
       "</table>\n",
       "</div>"
      ],
      "text/plain": [
       "   tahun  persen_penduduk_trampil_tik            prov\n",
       "0   2021                        60.21            ACEH\n",
       "1   2021                        67.41  SUMATERA UTARA\n",
       "2   2021                        68.00  SUMATERA BARAT"
      ]
     },
     "execution_count": 6,
     "metadata": {},
     "output_type": "execute_result"
    }
   ],
   "source": [
    "df_trampilTik.head(3)"
   ]
  },
  {
   "cell_type": "markdown",
   "id": "da2c89fa",
   "metadata": {},
   "source": [
    "#### Barplot tahun terhadap persentase penduduk trampil TIK"
   ]
  },
  {
   "cell_type": "code",
   "execution_count": 7,
   "id": "5c78640e",
   "metadata": {},
   "outputs": [
    {
     "data": {
      "text/plain": [
       "<AxesSubplot: xlabel='tahun', ylabel='persen_penduduk_trampil_tik'>"
      ]
     },
     "execution_count": 7,
     "metadata": {},
     "output_type": "execute_result"
    },
    {
     "data": {
      "image/png": "[encoded data removed]",
      "text/plain": [
       "<Figure size 640x480 with 1 Axes>"
      ]
     },
     "metadata": {},
     "output_type": "display_data"
    }
   ],
   "source": [
    "sns.barplot(data=df_trampilTik,x=\"tahun\", y=\"persen_penduduk_trampil_tik\")"
   ]
  },
  {
   "cell_type": "markdown",
   "id": "d6ae9c10",
   "metadata": {},
   "source": [
    "Berdasarkan Barplot diatas, terdapat kemajuan penduduk terampil TIK sekitar 5% - 10% yang konstan tiap tahunnya"
   ]
  },
  {
   "cell_type": "code",
   "execution_count": 8,
   "id": "24cc62ee",
   "metadata": {},
   "outputs": [],
   "source": [
    "df_trampilTik = df_trampilTik.drop(df_trampilTik[((df_trampilTik[\"tahun\"] < 2018) | (df_trampilTik[\"tahun\"] > 2021) | (df_trampilTik[\"prov\"] == \"INDONESIA\"))].index)"
   ]
  },
  {
   "cell_type": "markdown",
   "id": "c006c8cb",
   "metadata": {},
   "source": [
    "### Melek Huruf"
   ]
  },
  {
   "cell_type": "code",
   "execution_count": 9,
   "id": "c1678e5c",
   "metadata": {},
   "outputs": [
    {
     "data": {
      "text/html": [
       "<div>\n",
       "<style scoped>\n",
       "    .dataframe tbody tr th:only-of-type {\n",
       "        vertical-align: middle;\n",
       "    }\n",
       "\n",
       "    .dataframe tbody tr th {\n",
       "        vertical-align: top;\n",
       "    }\n",
       "\n",
       "    .dataframe thead th {\n",
       "        text-align: right;\n",
       "    }\n",
       "</style>\n",
       "<table border=\"1\" class=\"dataframe\">\n",
       "  <thead>\n",
       "    <tr style=\"text-align: right;\">\n",
       "      <th></th>\n",
       "      <th>prov</th>\n",
       "      <th>tahun</th>\n",
       "      <th>melek_huruf_diatas15</th>\n",
       "    </tr>\n",
       "  </thead>\n",
       "  <tbody>\n",
       "    <tr>\n",
       "      <th>0</th>\n",
       "      <td>ACEH</td>\n",
       "      <td>2022</td>\n",
       "      <td>98.25</td>\n",
       "    </tr>\n",
       "    <tr>\n",
       "      <th>1</th>\n",
       "      <td>SUMATERA UTARA</td>\n",
       "      <td>2022</td>\n",
       "      <td>99.11</td>\n",
       "    </tr>\n",
       "    <tr>\n",
       "      <th>2</th>\n",
       "      <td>SUMATERA BARAT</td>\n",
       "      <td>2022</td>\n",
       "      <td>99.29</td>\n",
       "    </tr>\n",
       "    <tr>\n",
       "      <th>3</th>\n",
       "      <td>RIAU</td>\n",
       "      <td>2022</td>\n",
       "      <td>99.18</td>\n",
       "    </tr>\n",
       "  </tbody>\n",
       "</table>\n",
       "</div>"
      ],
      "text/plain": [
       "             prov  tahun melek_huruf_diatas15\n",
       "0            ACEH   2022                98.25\n",
       "1  SUMATERA UTARA   2022                99.11\n",
       "2  SUMATERA BARAT   2022                99.29\n",
       "3            RIAU   2022                99.18"
      ]
     },
     "execution_count": 9,
     "metadata": {},
     "output_type": "execute_result"
    }
   ],
   "source": [
    "df_melekHuruf15.head(4)"
   ]
  },
  {
   "cell_type": "code",
   "execution_count": 10,
   "id": "d7c7a39f",
   "metadata": {},
   "outputs": [],
   "source": [
    "df_melekHuruf15 = df_melekHuruf15.drop(df_melekHuruf15[((df_melekHuruf15[\"tahun\"] < 2018) | (df_melekHuruf15[\"tahun\"] > 2021) | (df_melekHuruf15[\"prov\"] == \"INDONESIA\"))].index)"
   ]
  },
  {
   "cell_type": "markdown",
   "id": "fcb5c14d",
   "metadata": {},
   "source": [
    "### Cukup Pangan"
   ]
  },
  {
   "cell_type": "code",
   "execution_count": 11,
   "id": "06ce823c",
   "metadata": {},
   "outputs": [
    {
     "data": {
      "text/html": [
       "<div>\n",
       "<style scoped>\n",
       "    .dataframe tbody tr th:only-of-type {\n",
       "        vertical-align: middle;\n",
       "    }\n",
       "\n",
       "    .dataframe tbody tr th {\n",
       "        vertical-align: top;\n",
       "    }\n",
       "\n",
       "    .dataframe thead th {\n",
       "        text-align: right;\n",
       "    }\n",
       "</style>\n",
       "<table border=\"1\" class=\"dataframe\">\n",
       "  <thead>\n",
       "    <tr style=\"text-align: right;\">\n",
       "      <th></th>\n",
       "      <th>tahun</th>\n",
       "      <th>pct_tdk_cukup_pangan</th>\n",
       "      <th>prov</th>\n",
       "    </tr>\n",
       "  </thead>\n",
       "  <tbody>\n",
       "    <tr>\n",
       "      <th>0</th>\n",
       "      <td>2021</td>\n",
       "      <td>6.90</td>\n",
       "      <td>ACEH</td>\n",
       "    </tr>\n",
       "    <tr>\n",
       "      <th>1</th>\n",
       "      <td>2021</td>\n",
       "      <td>6.33</td>\n",
       "      <td>SUMATERA UTARA</td>\n",
       "    </tr>\n",
       "    <tr>\n",
       "      <th>2</th>\n",
       "      <td>2021</td>\n",
       "      <td>6.02</td>\n",
       "      <td>SUMATERA BARAT</td>\n",
       "    </tr>\n",
       "  </tbody>\n",
       "</table>\n",
       "</div>"
      ],
      "text/plain": [
       "   tahun  pct_tdk_cukup_pangan            prov\n",
       "0   2021                  6.90            ACEH\n",
       "1   2021                  6.33  SUMATERA UTARA\n",
       "2   2021                  6.02  SUMATERA BARAT"
      ]
     },
     "execution_count": 11,
     "metadata": {},
     "output_type": "execute_result"
    }
   ],
   "source": [
    "df_cukupPanganProv.head(3)"
   ]
  },
  {
   "cell_type": "code",
   "execution_count": 12,
   "id": "148642d0",
   "metadata": {},
   "outputs": [],
   "source": [
    "df_cukupPanganProv = df_cukupPanganProv.drop(df_cukupPanganProv[((df_cukupPanganProv[\"tahun\"] < 2018) | (df_cukupPanganProv[\"tahun\"] > 2021) | (df_cukupPanganProv[\"prov\"] == \"INDONESIA\"))].index)"
   ]
  },
  {
   "cell_type": "markdown",
   "id": "190d84e2",
   "metadata": {},
   "source": [
    "### Hidup Dibawah 50% Median"
   ]
  },
  {
   "cell_type": "code",
   "execution_count": 13,
   "id": "0f293cd1",
   "metadata": {},
   "outputs": [
    {
     "data": {
      "text/html": [
       "<div>\n",
       "<style scoped>\n",
       "    .dataframe tbody tr th:only-of-type {\n",
       "        vertical-align: middle;\n",
       "    }\n",
       "\n",
       "    .dataframe tbody tr th {\n",
       "        vertical-align: top;\n",
       "    }\n",
       "\n",
       "    .dataframe thead th {\n",
       "        text-align: right;\n",
       "    }\n",
       "</style>\n",
       "<table border=\"1\" class=\"dataframe\">\n",
       "  <thead>\n",
       "    <tr style=\"text-align: right;\">\n",
       "      <th></th>\n",
       "      <th>tahun</th>\n",
       "      <th>proporsi_hidup_dibawah_50_persen_median_pendapatan</th>\n",
       "      <th>prov</th>\n",
       "    </tr>\n",
       "  </thead>\n",
       "  <tbody>\n",
       "    <tr>\n",
       "      <th>0</th>\n",
       "      <td>2021</td>\n",
       "      <td>9.98</td>\n",
       "      <td>ACEH</td>\n",
       "    </tr>\n",
       "    <tr>\n",
       "      <th>1</th>\n",
       "      <td>2021</td>\n",
       "      <td>5.87</td>\n",
       "      <td>SUMATERA UTARA</td>\n",
       "    </tr>\n",
       "    <tr>\n",
       "      <th>2</th>\n",
       "      <td>2021</td>\n",
       "      <td>2.47</td>\n",
       "      <td>SUMATERA BARAT</td>\n",
       "    </tr>\n",
       "  </tbody>\n",
       "</table>\n",
       "</div>"
      ],
      "text/plain": [
       "   tahun  proporsi_hidup_dibawah_50_persen_median_pendapatan            prov\n",
       "0   2021                                               9.98             ACEH\n",
       "1   2021                                               5.87   SUMATERA UTARA\n",
       "2   2021                                               2.47   SUMATERA BARAT"
      ]
     },
     "execution_count": 13,
     "metadata": {},
     "output_type": "execute_result"
    }
   ],
   "source": [
    "df_hidupDibawah50Median.head(3)"
   ]
  },
  {
   "cell_type": "code",
   "execution_count": 14,
   "id": "66af6651",
   "metadata": {},
   "outputs": [],
   "source": [
    "df_hidupDibawah50Median = df_hidupDibawah50Median.drop(df_hidupDibawah50Median[((df_hidupDibawah50Median[\"tahun\"] < 2018) | (df_hidupDibawah50Median[\"tahun\"] > 2021) | (df_hidupDibawah50Median[\"prov\"] == \"INDONESIA\"))].index)"
   ]
  },
  {
   "cell_type": "markdown",
   "id": "371ec7e7",
   "metadata": {},
   "source": [
    "### PMI"
   ]
  },
  {
   "cell_type": "code",
   "execution_count": 15,
   "id": "0455cdd3",
   "metadata": {},
   "outputs": [
    {
     "data": {
      "text/html": [
       "<div>\n",
       "<style scoped>\n",
       "    .dataframe tbody tr th:only-of-type {\n",
       "        vertical-align: middle;\n",
       "    }\n",
       "\n",
       "    .dataframe tbody tr th {\n",
       "        vertical-align: top;\n",
       "    }\n",
       "\n",
       "    .dataframe thead th {\n",
       "        text-align: right;\n",
       "    }\n",
       "</style>\n",
       "<table border=\"1\" class=\"dataframe\">\n",
       "  <thead>\n",
       "    <tr style=\"text-align: right;\">\n",
       "      <th></th>\n",
       "      <th>prov</th>\n",
       "      <th>tahun</th>\n",
       "      <th>kategori_pmi</th>\n",
       "    </tr>\n",
       "  </thead>\n",
       "  <tbody>\n",
       "    <tr>\n",
       "      <th>0</th>\n",
       "      <td>ACEH</td>\n",
       "      <td>2022</td>\n",
       "      <td>TINGGI</td>\n",
       "    </tr>\n",
       "    <tr>\n",
       "      <th>1</th>\n",
       "      <td>SUMATERA UTARA</td>\n",
       "      <td>2022</td>\n",
       "      <td>TINGGI</td>\n",
       "    </tr>\n",
       "    <tr>\n",
       "      <th>2</th>\n",
       "      <td>SUMATERA BARAT</td>\n",
       "      <td>2022</td>\n",
       "      <td>TINGGI</td>\n",
       "    </tr>\n",
       "  </tbody>\n",
       "</table>\n",
       "</div>"
      ],
      "text/plain": [
       "             prov  tahun kategori_pmi\n",
       "0            ACEH   2022       TINGGI\n",
       "1  SUMATERA UTARA   2022       TINGGI\n",
       "2  SUMATERA BARAT   2022       TINGGI"
      ]
     },
     "execution_count": 15,
     "metadata": {},
     "output_type": "execute_result"
    }
   ],
   "source": [
    "df_pmi.head(3)"
   ]
  },
  {
   "cell_type": "code",
   "execution_count": 16,
   "id": "8a241b75",
   "metadata": {},
   "outputs": [],
   "source": [
    "df_pmi = df_pmi.drop(df_pmi[((df_pmi[\"tahun\"] < 2018) | (df_pmi[\"tahun\"] > 2021) | (df_pmi[\"prov\"] == \"INDONESIA\"))].index)"
   ]
  },
  {
   "cell_type": "markdown",
   "id": "7c992855",
   "metadata": {},
   "source": [
    "## Merge"
   ]
  },
  {
   "cell_type": "code",
   "execution_count": 17,
   "id": "a7c8236f",
   "metadata": {},
   "outputs": [],
   "source": [
    "df_merge = pd.merge(df_pmi, df_needPelayananKes, how=\"left\", on=[\"prov\", \"tahun\"])\n",
    "df_merge = pd.merge(df_merge, df_trampilTik, how=\"left\", on=[\"prov\", \"tahun\"])\n",
    "df_merge = pd.merge(df_merge, df_melekHuruf15, how=\"left\", on=[\"prov\", \"tahun\"])\n",
    "df_merge = pd.merge(df_merge, df_cukupPanganProv, how=\"left\", on=[\"prov\", \"tahun\"])\n",
    "df_merge = pd.merge(df_merge, df_hidupDibawah50Median, how=\"left\", on=[\"prov\", \"tahun\"])"
   ]
  },
  {
   "cell_type": "code",
   "execution_count": 18,
   "id": "15fb17bf",
   "metadata": {},
   "outputs": [
    {
     "data": {
      "text/html": [
       "<div>\n",
       "<style scoped>\n",
       "    .dataframe tbody tr th:only-of-type {\n",
       "        vertical-align: middle;\n",
       "    }\n",
       "\n",
       "    .dataframe tbody tr th {\n",
       "        vertical-align: top;\n",
       "    }\n",
       "\n",
       "    .dataframe thead th {\n",
       "        text-align: right;\n",
       "    }\n",
       "</style>\n",
       "<table border=\"1\" class=\"dataframe\">\n",
       "  <thead>\n",
       "    <tr style=\"text-align: right;\">\n",
       "      <th></th>\n",
       "      <th>prov</th>\n",
       "      <th>tahun</th>\n",
       "      <th>kategori_pmi</th>\n",
       "      <th>persen_unmet_need_pelayanan_kesehatan</th>\n",
       "      <th>persen_penduduk_trampil_tik</th>\n",
       "      <th>melek_huruf_diatas15</th>\n",
       "      <th>pct_tdk_cukup_pangan</th>\n",
       "      <th>proporsi_hidup_dibawah_50_persen_median_pendapatan</th>\n",
       "    </tr>\n",
       "  </thead>\n",
       "  <tbody>\n",
       "    <tr>\n",
       "      <th>0</th>\n",
       "      <td>ACEH</td>\n",
       "      <td>2021</td>\n",
       "      <td>TINGGI</td>\n",
       "      <td>4.29</td>\n",
       "      <td>60.21</td>\n",
       "      <td>98.24</td>\n",
       "      <td>6.90</td>\n",
       "      <td>9.98</td>\n",
       "    </tr>\n",
       "    <tr>\n",
       "      <th>1</th>\n",
       "      <td>SUMATERA UTARA</td>\n",
       "      <td>2021</td>\n",
       "      <td>TINGGI</td>\n",
       "      <td>3.83</td>\n",
       "      <td>67.41</td>\n",
       "      <td>99.19</td>\n",
       "      <td>6.33</td>\n",
       "      <td>5.87</td>\n",
       "    </tr>\n",
       "    <tr>\n",
       "      <th>2</th>\n",
       "      <td>SUMATERA BARAT</td>\n",
       "      <td>2021</td>\n",
       "      <td>TINGGI</td>\n",
       "      <td>3.26</td>\n",
       "      <td>68.00</td>\n",
       "      <td>99.26</td>\n",
       "      <td>6.02</td>\n",
       "      <td>2.47</td>\n",
       "    </tr>\n",
       "  </tbody>\n",
       "</table>\n",
       "</div>"
      ],
      "text/plain": [
       "             prov  tahun kategori_pmi  persen_unmet_need_pelayanan_kesehatan  \\\n",
       "0            ACEH   2021       TINGGI                                   4.29   \n",
       "1  SUMATERA UTARA   2021       TINGGI                                   3.83   \n",
       "2  SUMATERA BARAT   2021       TINGGI                                   3.26   \n",
       "\n",
       "   persen_penduduk_trampil_tik melek_huruf_diatas15  pct_tdk_cukup_pangan  \\\n",
       "0                        60.21                98.24                  6.90   \n",
       "1                        67.41                99.19                  6.33   \n",
       "2                        68.00                99.26                  6.02   \n",
       "\n",
       "   proporsi_hidup_dibawah_50_persen_median_pendapatan  \n",
       "0                                               9.98   \n",
       "1                                               5.87   \n",
       "2                                               2.47   "
      ]
     },
     "execution_count": 18,
     "metadata": {},
     "output_type": "execute_result"
    }
   ],
   "source": [
    "df_merge.head(3)"
   ]
  },
  {
   "cell_type": "code",
   "execution_count": 19,
   "id": "29b6d3ef",
   "metadata": {},
   "outputs": [],
   "source": [
    "df_merge[\"melek_huruf_diatas15\"] = df_merge[\"melek_huruf_diatas15\"].astype(\"float\")"
   ]
  },
  {
   "cell_type": "code",
   "execution_count": 20,
   "id": "653ee8be",
   "metadata": {},
   "outputs": [],
   "source": [
    "df_merge[\"kategori_pmi\"] = pd.Categorical(df_merge[\"kategori_pmi\"], ordered = True, categories=[\"SANGAT RENDAH\", \"SEDANG\", \"TINGGI\", \"SANGAT TINGGI\"])"
   ]
  },
  {
   "cell_type": "code",
   "execution_count": 21,
   "id": "0ade2dec",
   "metadata": {},
   "outputs": [
    {
     "data": {
      "text/plain": [
       "<AxesSubplot: xlabel='kategori_pmi', ylabel='proporsi_hidup_dibawah_50_persen_median_pendapatan'>"
      ]
     },
     "execution_count": 21,
     "metadata": {},
     "output_type": "execute_result"
    },
    {
     "data": {
      "image/png": "[encoded data removed]",
      "text/plain": [
       "<Figure size 640x480 with 1 Axes>"
      ]
     },
     "metadata": {},
     "output_type": "display_data"
    }
   ],
   "source": [
    "sns.barplot(x=\"kategori_pmi\", y=\"proporsi_hidup_dibawah_50_persen_median_pendapatan\", data=df_merge, palette=\"YlGnBu\")"
   ]
  },
  {
   "cell_type": "markdown",
   "id": "79a4dbff",
   "metadata": {},
   "source": [
    "Berdasarkan barplot diatas, provinsi dengan kategori_pmi tinggi memiliki proporsi hidup dibawah 50 persen median pendapatan yang rendah."
   ]
  },
  {
   "cell_type": "code",
   "execution_count": 22,
   "id": "ae5f1377",
   "metadata": {},
   "outputs": [],
   "source": [
    "df_merge = df_merge.drop([\"tahun\", \"prov\"], axis = 1)"
   ]
  },
  {
   "cell_type": "markdown",
   "id": "0c923229",
   "metadata": {},
   "source": [
    "### Persiapan data untuk Learning Klasifikasi"
   ]
  },
  {
   "cell_type": "code",
   "execution_count": 23,
   "id": "3e64d81d",
   "metadata": {},
   "outputs": [],
   "source": [
    "# penanganan kelas target\n",
    "from sklearn import preprocessing\n",
    "le = preprocessing.LabelEncoder()\n",
    "le.fit(df_merge[\"kategori_pmi\"])\n",
    "Y = le.transform(df_merge[\"kategori_pmi\"]) "
   ]
  },
  {
   "cell_type": "code",
   "execution_count": 24,
   "id": "1bfaae17",
   "metadata": {},
   "outputs": [
    {
     "data": {
      "text/plain": [
       "['SANGAT TINGGI', 'SEDANG', 'TINGGI']"
      ]
     },
     "execution_count": 24,
     "metadata": {},
     "output_type": "execute_result"
    }
   ],
   "source": [
    "list(le.classes_)"
   ]
  },
  {
   "cell_type": "code",
   "execution_count": 25,
   "id": "b5f49864",
   "metadata": {},
   "outputs": [
    {
     "data": {
      "text/plain": [
       "['SEDANG', 'TINGGI', 'SANGAT TINGGI']"
      ]
     },
     "execution_count": 25,
     "metadata": {},
     "output_type": "execute_result"
    }
   ],
   "source": [
    "list(le.inverse_transform([1, 2, 0]))"
   ]
  },
  {
   "cell_type": "code",
   "execution_count": 26,
   "id": "69e79ed4",
   "metadata": {},
   "outputs": [],
   "source": [
    "X = df_merge.drop(\"kategori_pmi\",axis=1)"
   ]
  },
  {
   "cell_type": "code",
   "execution_count": 27,
   "id": "8c12d614",
   "metadata": {},
   "outputs": [],
   "source": [
    "from sklearn.model_selection import train_test_split\n",
    "X_train,X_test,Y_train,Y_test=train_test_split(X,Y,test_size=0.2,random_state=123)\n",
    "\n",
    "#simpan nama kolom untuk keperluan prediksi nanti \n",
    "import pickle\n",
    "with open('..\\\\UAS\\\\pmi_x_train_columns.pickle', 'wb') as fp:\n",
    "    pickle.dump(X_train.columns, fp)\n"
   ]
  },
  {
   "cell_type": "markdown",
   "id": "4cad356b",
   "metadata": {},
   "source": [
    "## Classification Learning Menggunakan Random Forest & XGBoost"
   ]
  },
  {
   "cell_type": "code",
   "execution_count": 28,
   "id": "a0556128",
   "metadata": {},
   "outputs": [],
   "source": [
    "import warnings\n",
    "warnings.filterwarnings('ignore')"
   ]
  },
  {
   "cell_type": "code",
   "execution_count": 29,
   "id": "a95ebfec",
   "metadata": {},
   "outputs": [
    {
     "name": "stdout",
     "output_type": "stream",
     "text": [
      "Akurasi 0.8928571428571429\n",
      "              precision    recall  f1-score   support\n",
      "\n",
      "           0       0.00      0.00      0.00         1\n",
      "           1       0.90      0.90      0.90        10\n",
      "           2       0.89      0.94      0.91        17\n",
      "\n",
      "    accuracy                           0.89        28\n",
      "   macro avg       0.60      0.61      0.60        28\n",
      "weighted avg       0.86      0.89      0.88        28\n",
      "\n"
     ]
    }
   ],
   "source": [
    "from sklearn.ensemble import RandomForestClassifier\n",
    "from sklearn.metrics import classification_report\n",
    "from sklearn.metrics import accuracy_score\n",
    "\n",
    "clf_RF = RandomForestClassifier(n_estimators=50, random_state=123)\n",
    "clf_RF.fit(X_train, Y_train)\n",
    "Y_pred = clf_RF.predict(X_test)\n",
    "acc = accuracy_score(Y_test, Y_pred)\n",
    "print(\"Akurasi {}\".format(acc))\n",
    "print(classification_report(Y_test, Y_pred))"
   ]
  },
  {
   "cell_type": "code",
   "execution_count": 30,
   "id": "e8663a15",
   "metadata": {},
   "outputs": [
    {
     "name": "stdout",
     "output_type": "stream",
     "text": [
      "Akurasi 0.8928571428571429\n",
      "              precision    recall  f1-score   support\n",
      "\n",
      "           0       0.00      0.00      0.00         1\n",
      "           1       0.90      0.90      0.90        10\n",
      "           2       0.89      0.94      0.91        17\n",
      "\n",
      "    accuracy                           0.89        28\n",
      "   macro avg       0.60      0.61      0.60        28\n",
      "weighted avg       0.86      0.89      0.88        28\n",
      "\n"
     ]
    }
   ],
   "source": [
    "import xgboost as xgb\n",
    "clf_XG = xgb.XGBClassifier(objective = \"multi:softprob\", num_class = 3, eval_metric = \"mlogloss\", max_depth = 24, gamma=0.1, subsample = 0.90,learning_rate=0.01, n_estimators = 10, nthread=-1)\n",
    "# num_class adalah jumlah kelas\n",
    "clf_XG.fit(X_train, Y_train)\n",
    "Y_pred = clf_XG.predict(X_test)\n",
    "acc = accuracy_score(Y_test, Y_pred)\n",
    "print(\"Akurasi {}\".format(acc))\n",
    "print(classification_report(Y_test, Y_pred))"
   ]
  },
  {
   "cell_type": "markdown",
   "id": "79349f34",
   "metadata": {},
   "source": [
    "0: Sangat Tinggi, 1: Tinggi, 2: Sedang\n",
    "\n",
    "Karena hasil kedua model sangat mirip, maka yang akan digunakan yaitu model RandomForest"
   ]
  },
  {
   "cell_type": "code",
   "execution_count": 31,
   "id": "c79afa46",
   "metadata": {},
   "outputs": [
    {
     "data": {
      "text/plain": [
       "['..\\\\UAS\\\\RF_order.joblib']"
      ]
     },
     "execution_count": 31,
     "metadata": {},
     "output_type": "execute_result"
    }
   ],
   "source": [
    "import joblib\n",
    "import pandas as pd\n",
    "joblib.dump(clf_RF, '..\\\\UAS\\\\RF_order.joblib')"
   ]
  }
 ],
 "metadata": {
  "kernelspec": {
   "display_name": "Python 3 (ipykernel)",
   "language": "python",
   "name": "python3"
  },
  "language_info": {
   "codemirror_mode": {
    "name": "ipython",
    "version": 3
   },
   "file_extension": ".py",
   "mimetype": "text/x-python",
   "name": "python",
   "nbconvert_exporter": "python",
   "pygments_lexer": "ipython3",
   "version": "3.9.6"
  }
 },
 "nbformat": 4,
 "nbformat_minor": 5
}
